{
 "cells": [
  {
   "cell_type": "code",
   "execution_count": 2,
   "id": "539ff5dd-e344-4609-9378-874f1d3458b7",
   "metadata": {},
   "outputs": [
    {
     "name": "stdout",
     "output_type": "stream",
     "text": [
      "cuda\n"
     ]
    }
   ],
   "source": [
    "import requests\n",
    "import json\n",
    "import os\n",
    "\n",
    "import pandas as pd\n",
    "# import seaborn as sns\n",
    "\n",
    "from glob import glob\n",
    "from tqdm import tqdm\n",
    "import multiprocessing\n",
    "\n",
    "\n",
    "import numpy as np\n",
    "from torch_geometric.utils.convert import from_networkx\n",
    "\n",
    "# from androguard.core.bytecodes.apk import APK\n",
    "from androguard.core.apk import APK\n",
    "import networkx as nx\n",
    "from tqdm import tqdm\n",
    "import multiprocessing\n",
    "from joblib import Parallel, delayed\n",
    "from androguard.misc import AnalyzeAPK\n",
    "import matplotlib.pyplot as plt\n",
    "\n",
    "import torch\n",
    "from torch_geometric.datasets import MalNetTiny\n",
    "import torch_geometric.transforms as T\n",
    "device = torch.device('cuda' if torch.cuda.is_available() else 'cpu')\n",
    "print(device)"
   ]
  },
  {
   "cell_type": "markdown",
   "id": "43f8a181-3e9f-4c22-a8a9-df1af7f55217",
   "metadata": {},
   "source": [
    "# Read file "
   ]
  },
  {
   "cell_type": "code",
   "execution_count": 5,
   "id": "3731f253-73fa-4f9e-9a66-741d55213851",
   "metadata": {},
   "outputs": [
    {
     "name": "stdout",
     "output_type": "stream",
     "text": [
      "9433 9433\n"
     ]
    }
   ],
   "source": [
    "pos_path = '/projects/academic/erdem/jakir/easybuild/Ahmet/top_subreddits_unbanned_incel_users.txt'\n",
    "neg_path = '/projects/academic/erdem/jakir/easybuild/Ahmet/top_subreddits_unbanned_non_incel_users.txt'\n",
    "\n",
    "\n",
    "unique_sub_reddit, map_sub_red, user_cnt = set(), {}, 0\n",
    "\n",
    "all_data = [[], []]\n",
    "all_data_y = []\n",
    "\n",
    "\n",
    "def read_lines(filepath, pos=True):\n",
    "    global user_cnt, all_data, all_data_y, map_sub_red, unique_sub_reddit\n",
    "    cnt= 0\n",
    "    with open(filepath, \"r\") as f:\n",
    "        for line in f:\n",
    "#             if cnt > 2:\n",
    "#                 break\n",
    "            \n",
    "            cnt += 1\n",
    "#             print(cnt)\n",
    "            cur_line = line.strip()\n",
    "            cur_list = cur_line.split(': ')\n",
    "            \n",
    "            if len(cur_list) == 1:\n",
    "                continue\n",
    "                \n",
    "            if pos:\n",
    "                all_data[1].append(1)\n",
    "            else:\n",
    "                all_data[1].append(0)\n",
    "            feat_array = np.zeros(9433)\n",
    "                \n",
    "#             print(user_id)\n",
    "            feat_list = cur_list[1].split(',')\n",
    "            \n",
    "            for feat in feat_list: \n",
    "#                 print(feat)\n",
    "                split_text = feat.split(\" (\", 1)\n",
    "                sub_red = split_text[0]\n",
    "                count = split_text[1].rstrip(\")\")\n",
    "                unique_sub_reddit.add(sub_red)\n",
    "                \n",
    "                if sub_red not in map_sub_red:\n",
    "                    map_sub_red[sub_red] = user_cnt\n",
    "                    user_cnt += 1\n",
    "                \n",
    "                feat_array[map_sub_red[sub_red]] = count\n",
    "                \n",
    "            all_data[0].append(feat_array)\n",
    "\n",
    "\n",
    "read_lines(pos_path, pos=True)\n",
    "read_lines(neg_path, pos=False)\n",
    "\n",
    "print(len(unique_sub_reddit), user_cnt)\n",
    "\n"
   ]
  },
  {
   "cell_type": "code",
   "execution_count": 26,
   "id": "4d7f21ce-d7e0-4694-a8b8-ba73317a944e",
   "metadata": {},
   "outputs": [
    {
     "name": "stdout",
     "output_type": "stream",
     "text": [
      "2324\n",
      "1\n"
     ]
    }
   ],
   "source": [
    "import pandas as pd\n",
    "from sklearn.model_selection import train_test_split\n",
    "from sklearn.linear_model import LogisticRegression  # Example classifier\n",
    "from sklearn.metrics import accuracy_score\n",
    "from sklearn.metrics import confusion_matrix, f1_score, classification_report, roc_curve, roc_auc_score, accuracy_score, precision_recall_fscore_support\n",
    "\n",
    "from sklearn.svm import SVC\n",
    "from sklearn.tree import DecisionTreeClassifier\n",
    "from sklearn.ensemble import RandomForestClassifier\n",
    "from sklearn.neighbors import KNeighborsClassifier\n",
    "\n",
    "\n",
    "\n",
    "print(len(all_data[0]))\n",
    "print(all_data[1][0])\n",
    "\n",
    "X_train, X_test, y_train, y_test = train_test_split(all_data[0], all_data[1], test_size=0.2, random_state=42)\n"
   ]
  },
  {
   "cell_type": "code",
   "execution_count": 31,
   "id": "49c9525b-da4b-430e-ac5c-3b075f98d091",
   "metadata": {},
   "outputs": [],
   "source": [
    "# print(len(X_train),  len(X_test))\n",
    "\n",
    "def ML_model(model='Regression'):\n",
    "    if model=='Regression':\n",
    "        model = LogisticRegression()\n",
    "    elif model == 'SVM':\n",
    "        model = SVC(kernel='rbf')\n",
    "    elif model == 'DecisionTree':\n",
    "        model = DecisionTreeClassifier()\n",
    "    elif model == 'RandomForest':\n",
    "        model = RandomForestClassifier(n_estimators=100)\n",
    "    elif model == 'KNN':\n",
    "        model = KNeighborsClassifier(n_neighbors=5)\n",
    "    \n",
    "    model.fit(X_train, y_train)\n",
    "    return model\n",
    "\n",
    "# model =  ML_model(model='Regression')\n",
    "# y_pred = model.predict(X_test)"
   ]
  },
  {
   "cell_type": "code",
   "execution_count": 32,
   "id": "d8fd4bdf-f6b8-4d7a-87bd-ccefd7ca0a3d",
   "metadata": {},
   "outputs": [
    {
     "name": "stderr",
     "output_type": "stream",
     "text": [
      "/cvmfs/soft.ccr.buffalo.edu/versions/2023.01/easybuild/software/avx512/MPI/gcc/11.2.0/openmpi/4.1.1/scikit-learn/1.0.2/lib/python3.9/site-packages/sklearn/linear_model/_logistic.py:814: ConvergenceWarning: lbfgs failed to converge (status=1):\n",
      "STOP: TOTAL NO. of ITERATIONS REACHED LIMIT.\n",
      "\n",
      "Increase the number of iterations (max_iter) or scale the data as shown in:\n",
      "    https://scikit-learn.org/stable/modules/preprocessing.html\n",
      "Please also refer to the documentation for alternative solver options:\n",
      "    https://scikit-learn.org/stable/modules/linear_model.html#logistic-regression\n",
      "  n_iter_i = _check_optimize_result(\n"
     ]
    },
    {
     "name": "stdout",
     "output_type": "stream",
     "text": [
      "LogisticRegression()   Accuracy: 0.7548387096774194 0.7548285048285048\n",
      "SVC()   Accuracy: 0.7010752688172043 0.7008760603662516\n",
      "DecisionTreeClassifier()   Accuracy: 0.7182795698924731 0.7173960445188796\n",
      "RandomForestClassifier()   Accuracy: 0.7935483870967742 0.7934710193204529\n",
      "KNeighborsClassifier()   Accuracy: 0.6559139784946236 0.648167063897401\n"
     ]
    }
   ],
   "source": [
    "all_models = ['Regression', 'SVM', 'DecisionTree', 'RandomForest', 'KNN']\n",
    "\n",
    "for model in all_models:\n",
    "    model =  ML_model(model=model)\n",
    "    y_pred = model.predict(X_test)\n",
    "\n",
    "    accuracy = accuracy_score(y_test, y_pred)\n",
    "    f1 = f1_score(y_test, y_pred, average='macro')\n",
    "    print(model,  \"  Accuracy:\", accuracy, f1)\n",
    "\n",
    "\n",
    "    report = classification_report(y_test, y_pred)\n",
    "    cm = confusion_matrix(y_test, y_pred)\n",
    "\n",
    "#     print(\"Classification Report:\\n\", report)\n",
    "#     print(\"Confusion Matrix:\\n\", cm)"
   ]
  },
  {
   "cell_type": "code",
   "execution_count": null,
   "id": "ee694ebc-80ea-44ff-842d-42fd9953a89a",
   "metadata": {},
   "outputs": [],
   "source": []
  }
 ],
 "metadata": {
  "kernelspec": {
   "display_name": "Python 3 (ipykernel)",
   "language": "python",
   "name": "python3"
  },
  "language_info": {
   "codemirror_mode": {
    "name": "ipython",
    "version": 3
   },
   "file_extension": ".py",
   "mimetype": "text/x-python",
   "name": "python",
   "nbconvert_exporter": "python",
   "pygments_lexer": "ipython3",
   "version": "3.9.6"
  }
 },
 "nbformat": 4,
 "nbformat_minor": 5
}
